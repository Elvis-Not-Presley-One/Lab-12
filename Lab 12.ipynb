{
 "cells": [
  {
   "cell_type": "markdown",
   "id": "f78934db-1f0e-4bd4-b5fc-34900486c68c",
   "metadata": {},
   "source": [
    "### Lab 12 Problem 1"
   ]
  },
  {
   "cell_type": "code",
   "execution_count": 20,
   "id": "3233a696-cb65-4e03-b6a1-dcf932aeaba4",
   "metadata": {},
   "outputs": [
    {
     "name": "stdout",
     "output_type": "stream",
     "text": [
      "257\n"
     ]
    }
   ],
   "source": [
    "def recursive_sum(start, end, array, current_sum=0):\n",
    "    if start > end:\n",
    "        return current_sum\n",
    "    current_sum += array[start]\n",
    "    return recursive_sum(start + 1, end, array, current_sum)\n",
    "\n",
    "def main():\n",
    "    array = [1, 5, 6, 8, 100, 89, 43, 5]\n",
    "    result = recursive_sum(0, 7, array)  \n",
    "    print(result)\n",
    "\n",
    "if __name__ == \"__main__\":\n",
    "    main()\n"
   ]
  },
  {
   "cell_type": "code",
   "execution_count": null,
   "id": "f0f5dad7-6386-454e-9307-29b1a912a39d",
   "metadata": {},
   "outputs": [],
   "source": []
  }
 ],
 "metadata": {
  "kernelspec": {
   "display_name": "Python 3 (ipykernel)",
   "language": "python",
   "name": "python3"
  },
  "language_info": {
   "codemirror_mode": {
    "name": "ipython",
    "version": 3
   },
   "file_extension": ".py",
   "mimetype": "text/x-python",
   "name": "python",
   "nbconvert_exporter": "python",
   "pygments_lexer": "ipython3",
   "version": "3.12.4"
  }
 },
 "nbformat": 4,
 "nbformat_minor": 5
}
